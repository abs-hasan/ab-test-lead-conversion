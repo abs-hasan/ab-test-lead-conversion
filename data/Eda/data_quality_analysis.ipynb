{
 "cells": [
  {
   "cell_type": "markdown",
   "id": "a86ffc5e-e8cc-462f-898c-b585c3f24d84",
   "metadata": {},
   "source": [
    "# ABXplore Data Quality Analysis"
   ]
  },
  {
   "cell_type": "code",
   "execution_count": 3,
   "id": "86cd8e86",
   "metadata": {},
   "outputs": [],
   "source": [
    "#importing libraries\n",
    "import pandas as pd\n",
    "import sqlite3\n",
    "import numpy as np\n",
    "\n",
    "import matplotlib.pyplot as plt"
   ]
  },
  {
   "cell_type": "markdown",
   "id": "f4ea769c-8456-4afd-81a2-7397fe6d8682",
   "metadata": {},
   "source": [
    "# Leads Table Analysis\n",
    "Understanding lead data quality issues"
   ]
  },
  {
   "cell_type": "markdown",
   "id": "ebdc350f-8090-455d-8270-a2e5112de750",
   "metadata": {},
   "source": [
    "### Load Data from Database"
   ]
  },
  {
   "cell_type": "code",
   "execution_count": 41,
   "id": "4ed18507",
   "metadata": {},
   "outputs": [
    {
     "name": "stdout",
     "output_type": "stream",
     "text": [
      "<class 'pandas.core.frame.DataFrame'>\n",
      "RangeIndex: 10000 entries, 0 to 9999\n",
      "Data columns (total 12 columns):\n",
      " #   Column          Non-Null Count  Dtype  \n",
      "---  ------          --------------  -----  \n",
      " 0   lead_id         10000 non-null  object \n",
      " 1   company_name    10000 non-null  object \n",
      " 2   contact_email   10000 non-null  object \n",
      " 3   contact_phone   8442 non-null   object \n",
      " 4   industry        10000 non-null  object \n",
      " 5   region          9500 non-null   object \n",
      " 6   source_channel  10000 non-null  object \n",
      " 7   company_size    10000 non-null  object \n",
      " 8   created_at      10000 non-null  object \n",
      " 9   annual_revenue  10000 non-null  float64\n",
      " 10  group           10000 non-null  object \n",
      " 11  assigned_at     10000 non-null  object \n",
      "dtypes: float64(1), object(11)\n",
      "memory usage: 937.6+ KB\n"
     ]
    }
   ],
   "source": [
    "# Connect to database\n",
    "\n",
    "conn = sqlite3.connect('../db/abxplore.db')\n",
    "df = pd.read_sql(\"SELECT * FROM leads\", conn)\n",
    "df_ce = pd.read_sql_query(\"SELECT * FROM contact_events\", conn)\n",
    "df_fs = pd.read_sql_query(\"SELECT * FROM funnel_stages\", conn)\n",
    "df_out = pd.read_sql_query(\"SELECT * FROM outcomes\", conn)\n",
    "conn.close()\n",
    "\n",
    "# View structure of the data\n",
    "df.info()"
   ]
  },
  {
   "cell_type": "markdown",
   "id": "dfda334a",
   "metadata": {},
   "source": [
    "✅ Observation:\n",
    "\n",
    "- `contact_phone` has missing values.\n",
    "- `region` has approximately 500 null or missing entries.\n",
    "- All columns are stored as `object` data type, except `annual_revenue` which is `float64`."
   ]
  },
  {
   "cell_type": "markdown",
   "id": "ae910c3b-2c81-4bca-b472-332e887201fd",
   "metadata": {},
   "source": [
    "#### Preview of `leads` Table"
   ]
  },
  {
   "cell_type": "code",
   "execution_count": 3,
   "id": "a960604f",
   "metadata": {},
   "outputs": [
    {
     "data": {
      "text/html": [
       "<div>\n",
       "<style scoped>\n",
       "    .dataframe tbody tr th:only-of-type {\n",
       "        vertical-align: middle;\n",
       "    }\n",
       "\n",
       "    .dataframe tbody tr th {\n",
       "        vertical-align: top;\n",
       "    }\n",
       "\n",
       "    .dataframe thead th {\n",
       "        text-align: right;\n",
       "    }\n",
       "</style>\n",
       "<table border=\"1\" class=\"dataframe\">\n",
       "  <thead>\n",
       "    <tr style=\"text-align: right;\">\n",
       "      <th></th>\n",
       "      <th>lead_id</th>\n",
       "      <th>company_name</th>\n",
       "      <th>contact_email</th>\n",
       "      <th>contact_phone</th>\n",
       "      <th>industry</th>\n",
       "      <th>region</th>\n",
       "      <th>source_channel</th>\n",
       "      <th>company_size</th>\n",
       "      <th>created_at</th>\n",
       "      <th>annual_revenue</th>\n",
       "      <th>group</th>\n",
       "      <th>assigned_at</th>\n",
       "    </tr>\n",
       "  </thead>\n",
       "  <tbody>\n",
       "    <tr>\n",
       "      <th>0</th>\n",
       "      <td>b94961e5-d68b-41e0-851f-b4cada81764c</td>\n",
       "      <td>Lewis LLC</td>\n",
       "      <td>daviscolin@example.com</td>\n",
       "      <td>None</td>\n",
       "      <td>Retail</td>\n",
       "      <td>North America</td>\n",
       "      <td>Referral</td>\n",
       "      <td>Small</td>\n",
       "      <td>2024-05-03 04:35:40</td>\n",
       "      <td>6.512543e+05</td>\n",
       "      <td>control</td>\n",
       "      <td>2024-05-03</td>\n",
       "    </tr>\n",
       "    <tr>\n",
       "      <th>1</th>\n",
       "      <td>35f453bd-0c01-400a-bc8e-4bd4239e388e</td>\n",
       "      <td>Montgomery, Hensley and Ray</td>\n",
       "      <td>williamsjeremy@example.com</td>\n",
       "      <td>731-564-7525</td>\n",
       "      <td>Manufacturing</td>\n",
       "      <td>None</td>\n",
       "      <td>Webinar</td>\n",
       "      <td>Small</td>\n",
       "      <td>2024-04-17 00:14:30</td>\n",
       "      <td>3.878259e+05</td>\n",
       "      <td>control</td>\n",
       "      <td>2024-04-17</td>\n",
       "    </tr>\n",
       "    <tr>\n",
       "      <th>2</th>\n",
       "      <td>d883e192-e052-4795-9762-96933e36ed49</td>\n",
       "      <td>Watts, Robinson and Nguyen</td>\n",
       "      <td>perezantonio@example.com</td>\n",
       "      <td>(541)639-5376x7242</td>\n",
       "      <td>Technology</td>\n",
       "      <td>Asia Pacific</td>\n",
       "      <td>Cold Email</td>\n",
       "      <td>Medium</td>\n",
       "      <td>2024-05-17 12:01:46</td>\n",
       "      <td>1.190717e+06</td>\n",
       "      <td>control</td>\n",
       "      <td>2024-05-17</td>\n",
       "    </tr>\n",
       "    <tr>\n",
       "      <th>3</th>\n",
       "      <td>fbdc9213-9346-4d02-a591-191ed53cfd18</td>\n",
       "      <td>Spencer, Chapman and Smith</td>\n",
       "      <td>perezrebecca@example.com</td>\n",
       "      <td>983-547-3829</td>\n",
       "      <td>Manufacturing</td>\n",
       "      <td>Europe</td>\n",
       "      <td>Cold Email</td>\n",
       "      <td>Small</td>\n",
       "      <td>2024-05-03 09:37:46</td>\n",
       "      <td>3.021554e+05</td>\n",
       "      <td>control</td>\n",
       "      <td>2024-05-03</td>\n",
       "    </tr>\n",
       "    <tr>\n",
       "      <th>4</th>\n",
       "      <td>11e9ab89-7533-4e3c-b6fb-8f7ef8185b1c</td>\n",
       "      <td>Baxter Inc</td>\n",
       "      <td>jmorton@example.org</td>\n",
       "      <td>5808132677</td>\n",
       "      <td>Retail</td>\n",
       "      <td>Latin America</td>\n",
       "      <td>Cold Email</td>\n",
       "      <td>Small</td>\n",
       "      <td>2024-04-11 16:03:19</td>\n",
       "      <td>3.767124e+06</td>\n",
       "      <td>control</td>\n",
       "      <td>2024-04-11</td>\n",
       "    </tr>\n",
       "  </tbody>\n",
       "</table>\n",
       "</div>"
      ],
      "text/plain": [
       "                                lead_id                 company_name  \\\n",
       "0  b94961e5-d68b-41e0-851f-b4cada81764c                    Lewis LLC   \n",
       "1  35f453bd-0c01-400a-bc8e-4bd4239e388e  Montgomery, Hensley and Ray   \n",
       "2  d883e192-e052-4795-9762-96933e36ed49   Watts, Robinson and Nguyen   \n",
       "3  fbdc9213-9346-4d02-a591-191ed53cfd18   Spencer, Chapman and Smith   \n",
       "4  11e9ab89-7533-4e3c-b6fb-8f7ef8185b1c                   Baxter Inc   \n",
       "\n",
       "                contact_email       contact_phone       industry  \\\n",
       "0      daviscolin@example.com                None         Retail   \n",
       "1  williamsjeremy@example.com        731-564-7525  Manufacturing   \n",
       "2    perezantonio@example.com  (541)639-5376x7242     Technology   \n",
       "3    perezrebecca@example.com        983-547-3829  Manufacturing   \n",
       "4         jmorton@example.org          5808132677         Retail   \n",
       "\n",
       "          region source_channel company_size           created_at  \\\n",
       "0  North America       Referral        Small  2024-05-03 04:35:40   \n",
       "1           None        Webinar        Small  2024-04-17 00:14:30   \n",
       "2   Asia Pacific     Cold Email       Medium  2024-05-17 12:01:46   \n",
       "3         Europe     Cold Email        Small  2024-05-03 09:37:46   \n",
       "4  Latin America     Cold Email        Small  2024-04-11 16:03:19   \n",
       "\n",
       "   annual_revenue    group assigned_at  \n",
       "0    6.512543e+05  control  2024-05-03  \n",
       "1    3.878259e+05  control  2024-04-17  \n",
       "2    1.190717e+06  control  2024-05-17  \n",
       "3    3.021554e+05  control  2024-05-03  \n",
       "4    3.767124e+06  control  2024-04-11  "
      ]
     },
     "execution_count": 3,
     "metadata": {},
     "output_type": "execute_result"
    }
   ],
   "source": [
    "df.head(5)"
   ]
  },
  {
   "cell_type": "markdown",
   "id": "0db63ce5-83ae-4dec-acfc-be218d7423bf",
   "metadata": {},
   "source": [
    "#### Initial Observations\n",
    "\n",
    "- We can see inconsistencies in the `contact_phone` field such as:\n",
    "  - Missing values\n",
    "  - Mixed formatting (e.g., `x123`, `ext456`, parentheses, dots)\n",
    "- These patterns indicate a need for cleaning and standardization.\n",
    "- `annual_revenue` column has many decimal places — we will round to 2 decimal places later."
   ]
  },
  {
   "cell_type": "code",
   "execution_count": 4,
   "id": "07848fcc-7f45-42ea-878c-506bfd1c1ba5",
   "metadata": {},
   "outputs": [
    {
     "data": {
      "text/html": [
       "<div>\n",
       "<style scoped>\n",
       "    .dataframe tbody tr th:only-of-type {\n",
       "        vertical-align: middle;\n",
       "    }\n",
       "\n",
       "    .dataframe tbody tr th {\n",
       "        vertical-align: top;\n",
       "    }\n",
       "\n",
       "    .dataframe thead th {\n",
       "        text-align: right;\n",
       "    }\n",
       "</style>\n",
       "<table border=\"1\" class=\"dataframe\">\n",
       "  <thead>\n",
       "    <tr style=\"text-align: right;\">\n",
       "      <th></th>\n",
       "      <th>annual_revenue</th>\n",
       "    </tr>\n",
       "  </thead>\n",
       "  <tbody>\n",
       "    <tr>\n",
       "      <th>count</th>\n",
       "      <td>1.000000e+04</td>\n",
       "    </tr>\n",
       "    <tr>\n",
       "      <th>mean</th>\n",
       "      <td>7.660627e+06</td>\n",
       "    </tr>\n",
       "    <tr>\n",
       "      <th>std</th>\n",
       "      <td>5.028222e+07</td>\n",
       "    </tr>\n",
       "    <tr>\n",
       "      <th>min</th>\n",
       "      <td>-5.000000e+05</td>\n",
       "    </tr>\n",
       "    <tr>\n",
       "      <th>25%</th>\n",
       "      <td>8.778870e+05</td>\n",
       "    </tr>\n",
       "    <tr>\n",
       "      <th>50%</th>\n",
       "      <td>2.102949e+06</td>\n",
       "    </tr>\n",
       "    <tr>\n",
       "      <th>75%</th>\n",
       "      <td>5.310916e+06</td>\n",
       "    </tr>\n",
       "    <tr>\n",
       "      <th>max</th>\n",
       "      <td>1.552851e+09</td>\n",
       "    </tr>\n",
       "  </tbody>\n",
       "</table>\n",
       "</div>"
      ],
      "text/plain": [
       "       annual_revenue\n",
       "count    1.000000e+04\n",
       "mean     7.660627e+06\n",
       "std      5.028222e+07\n",
       "min     -5.000000e+05\n",
       "25%      8.778870e+05\n",
       "50%      2.102949e+06\n",
       "75%      5.310916e+06\n",
       "max      1.552851e+09"
      ]
     },
     "execution_count": 4,
     "metadata": {},
     "output_type": "execute_result"
    }
   ],
   "source": [
    "df.describe()"
   ]
  },
  {
   "cell_type": "markdown",
   "id": "b641f7ef-e1eb-459e-8f37-462d6de4ddf6",
   "metadata": {},
   "source": [
    "From the `.describe()` output of the `annual_revenue` column:\n",
    "\n",
    "- **Min Value:** -500,000  Indicates **invalid negative revenue**\n",
    "- **Max Value:** 1.55 Billion → **Extremely high**, likely unrealistic\n",
    "- **Mean:** ~7.6 Million → Much lower than max, indicating a **right-skewed distribution**\n",
    "\n",
    "> - We have both **negative** and **extremely high** revenue values.\n",
    "> - We'll check for **outliers** and **business-rule violations** in the next steps, then fix them in the staging model."
   ]
  },
  {
   "cell_type": "markdown",
   "id": "d58ee649-7622-4998-9178-bf94065c1f5f",
   "metadata": {},
   "source": [
    "### 1: Check for Duplicate Lead IDs"
   ]
  },
  {
   "cell_type": "code",
   "execution_count": 5,
   "id": "2e36639b-5abe-4e4a-892a-9225600f9d8e",
   "metadata": {},
   "outputs": [
    {
     "data": {
      "text/html": [
       "<div>\n",
       "<style scoped>\n",
       "    .dataframe tbody tr th:only-of-type {\n",
       "        vertical-align: middle;\n",
       "    }\n",
       "\n",
       "    .dataframe tbody tr th {\n",
       "        vertical-align: top;\n",
       "    }\n",
       "\n",
       "    .dataframe thead th {\n",
       "        text-align: right;\n",
       "    }\n",
       "</style>\n",
       "<table border=\"1\" class=\"dataframe\">\n",
       "  <thead>\n",
       "    <tr style=\"text-align: right;\">\n",
       "      <th></th>\n",
       "      <th>lead_id</th>\n",
       "      <th>company_name</th>\n",
       "      <th>contact_email</th>\n",
       "      <th>contact_phone</th>\n",
       "      <th>industry</th>\n",
       "      <th>region</th>\n",
       "      <th>source_channel</th>\n",
       "      <th>company_size</th>\n",
       "      <th>created_at</th>\n",
       "      <th>annual_revenue</th>\n",
       "      <th>group</th>\n",
       "      <th>assigned_at</th>\n",
       "    </tr>\n",
       "  </thead>\n",
       "  <tbody>\n",
       "  </tbody>\n",
       "</table>\n",
       "</div>"
      ],
      "text/plain": [
       "Empty DataFrame\n",
       "Columns: [lead_id, company_name, contact_email, contact_phone, industry, region, source_channel, company_size, created_at, annual_revenue, group, assigned_at]\n",
       "Index: []"
      ]
     },
     "execution_count": 5,
     "metadata": {},
     "output_type": "execute_result"
    }
   ],
   "source": [
    "duplicate_leads = df[df.duplicated(subset='lead_id', keep=False)]\n",
    "duplicate_leads"
   ]
  },
  {
   "cell_type": "markdown",
   "id": "3fc1d2c1-1ca2-4d03-b521-7c1e22b77362",
   "metadata": {},
   "source": [
    "✅ Observation:\n",
    "\n",
    "- No duplicate `lead_id` values found.\n",
    "- Each row represents a unique lead, as expected."
   ]
  },
  {
   "cell_type": "markdown",
   "id": "bf7af7ae-9c8b-4bbd-974f-b223568d2a5a",
   "metadata": {},
   "source": [
    "### 2. Test or Dummy Company Names"
   ]
  },
  {
   "cell_type": "code",
   "execution_count": 6,
   "id": "d52bf337",
   "metadata": {},
   "outputs": [],
   "source": [
    "# Check company Column\n",
    "company_groupby = df['company_name'].value_counts().reset_index()"
   ]
  },
  {
   "cell_type": "code",
   "execution_count": 7,
   "id": "bf6237c3-482a-4509-a97a-e2049c1b9190",
   "metadata": {},
   "outputs": [
    {
     "data": {
      "text/html": [
       "<div>\n",
       "<style scoped>\n",
       "    .dataframe tbody tr th:only-of-type {\n",
       "        vertical-align: middle;\n",
       "    }\n",
       "\n",
       "    .dataframe tbody tr th {\n",
       "        vertical-align: top;\n",
       "    }\n",
       "\n",
       "    .dataframe thead th {\n",
       "        text-align: right;\n",
       "    }\n",
       "</style>\n",
       "<table border=\"1\" class=\"dataframe\">\n",
       "  <thead>\n",
       "    <tr style=\"text-align: right;\">\n",
       "      <th></th>\n",
       "      <th>company_name</th>\n",
       "      <th>count</th>\n",
       "    </tr>\n",
       "  </thead>\n",
       "  <tbody>\n",
       "    <tr>\n",
       "      <th>0</th>\n",
       "      <td>Delete This Company</td>\n",
       "      <td>52</td>\n",
       "    </tr>\n",
       "    <tr>\n",
       "      <th>1</th>\n",
       "      <td>Sample Corp LLC</td>\n",
       "      <td>50</td>\n",
       "    </tr>\n",
       "    <tr>\n",
       "      <th>2</th>\n",
       "      <td>Test Data Corp</td>\n",
       "      <td>49</td>\n",
       "    </tr>\n",
       "    <tr>\n",
       "      <th>3</th>\n",
       "      <td>Test Company Inc</td>\n",
       "      <td>49</td>\n",
       "    </tr>\n",
       "    <tr>\n",
       "      <th>4</th>\n",
       "      <td>Johnson Ltd</td>\n",
       "      <td>18</td>\n",
       "    </tr>\n",
       "    <tr>\n",
       "      <th>...</th>\n",
       "      <td>...</td>\n",
       "      <td>...</td>\n",
       "    </tr>\n",
       "    <tr>\n",
       "      <th>8507</th>\n",
       "      <td>Morgan-White</td>\n",
       "      <td>1</td>\n",
       "    </tr>\n",
       "    <tr>\n",
       "      <th>8508</th>\n",
       "      <td>Sutton, Nguyen and Gibson</td>\n",
       "      <td>1</td>\n",
       "    </tr>\n",
       "    <tr>\n",
       "      <th>8509</th>\n",
       "      <td>Ramos-James</td>\n",
       "      <td>1</td>\n",
       "    </tr>\n",
       "    <tr>\n",
       "      <th>8510</th>\n",
       "      <td>Welch PLC</td>\n",
       "      <td>1</td>\n",
       "    </tr>\n",
       "    <tr>\n",
       "      <th>8511</th>\n",
       "      <td>Molina-Garcia</td>\n",
       "      <td>1</td>\n",
       "    </tr>\n",
       "  </tbody>\n",
       "</table>\n",
       "<p>8512 rows × 2 columns</p>\n",
       "</div>"
      ],
      "text/plain": [
       "                   company_name  count\n",
       "0           Delete This Company     52\n",
       "1               Sample Corp LLC     50\n",
       "2                Test Data Corp     49\n",
       "3              Test Company Inc     49\n",
       "4                   Johnson Ltd     18\n",
       "...                         ...    ...\n",
       "8507               Morgan-White      1\n",
       "8508  Sutton, Nguyen and Gibson      1\n",
       "8509                Ramos-James      1\n",
       "8510                  Welch PLC      1\n",
       "8511              Molina-Garcia      1\n",
       "\n",
       "[8512 rows x 2 columns]"
      ]
     },
     "execution_count": 7,
     "metadata": {},
     "output_type": "execute_result"
    }
   ],
   "source": [
    "company_groupby"
   ]
  },
  {
   "cell_type": "code",
   "execution_count": 8,
   "id": "288139e1-fc4a-4d10-9fd7-fcafa2f5f49c",
   "metadata": {},
   "outputs": [
    {
     "data": {
      "text/plain": [
       "company_name\n",
       "Delete This Company    52\n",
       "Sample Corp LLC        50\n",
       "Test Data Corp         49\n",
       "Test Company Inc       49\n",
       "Name: count, dtype: int64"
      ]
     },
     "execution_count": 8,
     "metadata": {},
     "output_type": "execute_result"
    }
   ],
   "source": [
    "# Check for fake company names like \"test\", \"delete\", \"sample\"\n",
    "test_company_names = df[df['company_name'].str.lower().str.contains('test|delete|sample', na=False)]['company_name'].value_counts()\n",
    "test_company_names"
   ]
  },
  {
   "cell_type": "markdown",
   "id": "62729217-c8f4-4f1f-ae0b-c2af124b265d",
   "metadata": {},
   "source": [
    "Issue:\n",
    "- Found company names containing \"test\", \"delete\", or \"sample\".\n",
    "- These are likely demo/test entries and should be removed in the staging model."
   ]
  },
  {
   "cell_type": "markdown",
   "id": "4c99c001-4554-4c51-8e59-409ab2a72c11",
   "metadata": {},
   "source": [
    "### 3. Company Size Variations"
   ]
  },
  {
   "cell_type": "code",
   "execution_count": 9,
   "id": "445844b7-46ce-49a8-be56-2c86a782a9ae",
   "metadata": {},
   "outputs": [
    {
     "data": {
      "text/plain": [
       "company_size\n",
       "Small         3636\n",
       "Medium        2835\n",
       "Large         1817\n",
       "Enterprise     912\n",
       "small          337\n",
       "medium         242\n",
       "large          152\n",
       "enterprise      69\n",
       "Name: count, dtype: int64"
      ]
     },
     "execution_count": 9,
     "metadata": {},
     "output_type": "execute_result"
    }
   ],
   "source": [
    "# 4. Company size values - full breakdown\n",
    "company_size_distribution = df['company_size'].value_counts(dropna=False)\n",
    "company_size_distribution"
   ]
  },
  {
   "cell_type": "markdown",
   "id": "8525423a-4df5-4603-b020-ccfcf1e8b9a3",
   "metadata": {},
   "source": [
    "⚠️ Issue:\n",
    "- Company sizes are inconsistently formatted (e.g., \"Small\" vs \"small\").\n",
    "- Need to standardize values like `small`, `medium`, `enterprise` to proper casing in staging."
   ]
  },
  {
   "cell_type": "markdown",
   "id": "1f816c8c-755f-48f3-a58d-f26b62edfd8e",
   "metadata": {},
   "source": [
    "### 4.  Missing or Blank Regions"
   ]
  },
  {
   "cell_type": "code",
   "execution_count": 10,
   "id": "77982bf7",
   "metadata": {},
   "outputs": [
    {
     "data": {
      "text/html": [
       "<div>\n",
       "<style scoped>\n",
       "    .dataframe tbody tr th:only-of-type {\n",
       "        vertical-align: middle;\n",
       "    }\n",
       "\n",
       "    .dataframe tbody tr th {\n",
       "        vertical-align: top;\n",
       "    }\n",
       "\n",
       "    .dataframe thead th {\n",
       "        text-align: right;\n",
       "    }\n",
       "</style>\n",
       "<table border=\"1\" class=\"dataframe\">\n",
       "  <thead>\n",
       "    <tr style=\"text-align: right;\">\n",
       "      <th></th>\n",
       "      <th>region</th>\n",
       "      <th>count</th>\n",
       "    </tr>\n",
       "  </thead>\n",
       "  <tbody>\n",
       "    <tr>\n",
       "      <th>0</th>\n",
       "      <td>North America</td>\n",
       "      <td>2400</td>\n",
       "    </tr>\n",
       "    <tr>\n",
       "      <th>1</th>\n",
       "      <td>Europe</td>\n",
       "      <td>2391</td>\n",
       "    </tr>\n",
       "    <tr>\n",
       "      <th>2</th>\n",
       "      <td>Latin America</td>\n",
       "      <td>2362</td>\n",
       "    </tr>\n",
       "    <tr>\n",
       "      <th>3</th>\n",
       "      <td>Asia Pacific</td>\n",
       "      <td>2347</td>\n",
       "    </tr>\n",
       "    <tr>\n",
       "      <th>4</th>\n",
       "      <td>None</td>\n",
       "      <td>500</td>\n",
       "    </tr>\n",
       "  </tbody>\n",
       "</table>\n",
       "</div>"
      ],
      "text/plain": [
       "          region  count\n",
       "0  North America   2400\n",
       "1         Europe   2391\n",
       "2  Latin America   2362\n",
       "3   Asia Pacific   2347\n",
       "4           None    500"
      ]
     },
     "execution_count": 10,
     "metadata": {},
     "output_type": "execute_result"
    }
   ],
   "source": [
    "# 3. Region issues - show counts of missing/blank region entries\n",
    "region_issues = df['region'].value_counts(dropna=False).reset_index()\n",
    "region_issues"
   ]
  },
  {
   "cell_type": "markdown",
   "id": "9df500e3-4b15-4996-84c3-2c69db755230",
   "metadata": {},
   "source": [
    "⚠️ Issue:\n",
    "- About 500 leads have missing or blank `region` values.\n",
    "- These should be replaced with `'Unknown'` in staging for consistency."
   ]
  },
  {
   "cell_type": "markdown",
   "id": "522c993f-716e-4426-8195-bef60ce3d149",
   "metadata": {},
   "source": [
    "### 5. Phone Number Extensions"
   ]
  },
  {
   "cell_type": "code",
   "execution_count": 11,
   "id": "5b73a8f9",
   "metadata": {},
   "outputs": [
    {
     "data": {
      "text/plain": [
       "contact_phone\n",
       "(541)639-5376x7242                1\n",
       "001-480-382-9548x5211             1\n",
       "857.222.3152 x1001                1\n",
       "803-664-8002x540 extension 789    1\n",
       "810-430-1640x40397                1\n",
       "                                 ..\n",
       "+1-318-794-5030x42433             1\n",
       "(565)902-5687x349 x1001           1\n",
       "001-294-965-8622x41899            1\n",
       "654-464-5639x285                  1\n",
       "001-689-896-0685x747              1\n",
       "Name: count, Length: 5575, dtype: int64"
      ]
     },
     "execution_count": 11,
     "metadata": {},
     "output_type": "execute_result"
    }
   ],
   "source": [
    "# Phone numbers with extensions \n",
    "phone_extension = df[df['contact_phone'].fillna('').str.contains('x|ext', case=False)]['contact_phone'].value_counts()\n",
    "phone_extension"
   ]
  },
  {
   "cell_type": "markdown",
   "id": "b1b73640-5730-46b1-9317-d1c1d50d02b7",
   "metadata": {},
   "source": [
    "Issue:\n",
    "- Over 5,000 contact phone numbers contain extensions like `x123` or `ext456`.\n",
    "- Extensions should be stripped, and numbers should be cleaned to digits only."
   ]
  },
  {
   "cell_type": "markdown",
   "id": "c700515d-9b9a-4ae8-8e23-ea3d85470c7a",
   "metadata": {},
   "source": [
    "### 6. Revenue issues"
   ]
  },
  {
   "cell_type": "code",
   "execution_count": 12,
   "id": "f5e5be27",
   "metadata": {},
   "outputs": [
    {
     "data": {
      "text/plain": [
       "annual_revenue\n",
       "-100000.0    39\n",
       "-500000.0    30\n",
       "Name: count, dtype: int64"
      ]
     },
     "execution_count": 12,
     "metadata": {},
     "output_type": "execute_result"
    }
   ],
   "source": [
    "# Negative Revenue\n",
    "negative_revenue_companies = df[df['annual_revenue'] < 0]['annual_revenue'].value_counts()\n",
    "negative_revenue_companies"
   ]
  },
  {
   "cell_type": "code",
   "execution_count": 13,
   "id": "6e40d52c",
   "metadata": {},
   "outputs": [
    {
     "data": {
      "text/plain": [
       "annual_revenue\n",
       "1.000000e+09    22\n",
       "1.552851e+09     1\n",
       "Name: count, dtype: int64"
      ]
     },
     "execution_count": 13,
     "metadata": {},
     "output_type": "execute_result"
    }
   ],
   "source": [
    "# Extreme Revenue\n",
    "extreme_revenue_companies = df[df['annual_revenue'] > 500000000]['annual_revenue'].value_counts()\n",
    "extreme_revenue_companies"
   ]
  },
  {
   "cell_type": "code",
   "execution_count": 10,
   "id": "8f71621a",
   "metadata": {},
   "outputs": [
    {
     "data": {
      "text/plain": [
       "lead_id           23\n",
       "company_name      23\n",
       "contact_email     23\n",
       "contact_phone     21\n",
       "industry          23\n",
       "region            21\n",
       "source_channel    23\n",
       "company_size      23\n",
       "created_at        23\n",
       "annual_revenue    23\n",
       "group             23\n",
       "assigned_at       23\n",
       "dtype: int64"
      ]
     },
     "execution_count": 10,
     "metadata": {},
     "output_type": "execute_result"
    }
   ],
   "source": [
    "df[df['annual_revenue'] > 500000000].count()"
   ]
  },
  {
   "cell_type": "markdown",
   "id": "92cef44a-efd9-46ab-aac1-dfdc9e851810",
   "metadata": {},
   "source": [
    "#### Top 10 Companies by Annual Revenue (Raw Data)"
   ]
  },
  {
   "cell_type": "code",
   "execution_count": 15,
   "id": "7c8fdcab-b5a9-4766-890d-b3bb1ad45803",
   "metadata": {},
   "outputs": [
    {
     "data": {
      "text/html": [
       "<div>\n",
       "<style scoped>\n",
       "    .dataframe tbody tr th:only-of-type {\n",
       "        vertical-align: middle;\n",
       "    }\n",
       "\n",
       "    .dataframe tbody tr th {\n",
       "        vertical-align: top;\n",
       "    }\n",
       "\n",
       "    .dataframe thead th {\n",
       "        text-align: right;\n",
       "    }\n",
       "</style>\n",
       "<table border=\"1\" class=\"dataframe\">\n",
       "  <thead>\n",
       "    <tr style=\"text-align: right;\">\n",
       "      <th></th>\n",
       "      <th>company_name</th>\n",
       "      <th>annual_revenue</th>\n",
       "    </tr>\n",
       "  </thead>\n",
       "  <tbody>\n",
       "    <tr>\n",
       "      <th>7095</th>\n",
       "      <td>Wheeler PLC</td>\n",
       "      <td>1.552851e+09</td>\n",
       "    </tr>\n",
       "    <tr>\n",
       "      <th>982</th>\n",
       "      <td>Mccullough-Flores</td>\n",
       "      <td>1.000000e+09</td>\n",
       "    </tr>\n",
       "    <tr>\n",
       "      <th>5524</th>\n",
       "      <td>Freeman, Dyer and Gross</td>\n",
       "      <td>1.000000e+09</td>\n",
       "    </tr>\n",
       "    <tr>\n",
       "      <th>8841</th>\n",
       "      <td>Young-Olson</td>\n",
       "      <td>1.000000e+09</td>\n",
       "    </tr>\n",
       "    <tr>\n",
       "      <th>6970</th>\n",
       "      <td>Scott, Barry and Gardner</td>\n",
       "      <td>1.000000e+09</td>\n",
       "    </tr>\n",
       "    <tr>\n",
       "      <th>4105</th>\n",
       "      <td>Turner and Sons</td>\n",
       "      <td>1.000000e+09</td>\n",
       "    </tr>\n",
       "    <tr>\n",
       "      <th>1877</th>\n",
       "      <td>Lopez, Williams and Ramirez</td>\n",
       "      <td>1.000000e+09</td>\n",
       "    </tr>\n",
       "    <tr>\n",
       "      <th>9956</th>\n",
       "      <td>Pollard and Sons</td>\n",
       "      <td>1.000000e+09</td>\n",
       "    </tr>\n",
       "    <tr>\n",
       "      <th>155</th>\n",
       "      <td>Zavala-Coleman</td>\n",
       "      <td>1.000000e+09</td>\n",
       "    </tr>\n",
       "    <tr>\n",
       "      <th>3907</th>\n",
       "      <td>Steele-Hernandez</td>\n",
       "      <td>1.000000e+09</td>\n",
       "    </tr>\n",
       "  </tbody>\n",
       "</table>\n",
       "</div>"
      ],
      "text/plain": [
       "                     company_name  annual_revenue\n",
       "7095                  Wheeler PLC    1.552851e+09\n",
       "982             Mccullough-Flores    1.000000e+09\n",
       "5524      Freeman, Dyer and Gross    1.000000e+09\n",
       "8841                  Young-Olson    1.000000e+09\n",
       "6970     Scott, Barry and Gardner    1.000000e+09\n",
       "4105              Turner and Sons    1.000000e+09\n",
       "1877  Lopez, Williams and Ramirez    1.000000e+09\n",
       "9956             Pollard and Sons    1.000000e+09\n",
       "155                Zavala-Coleman    1.000000e+09\n",
       "3907             Steele-Hernandez    1.000000e+09"
      ]
     },
     "execution_count": 15,
     "metadata": {},
     "output_type": "execute_result"
    }
   ],
   "source": [
    "df[['company_name', 'annual_revenue']].sort_values(by='annual_revenue', ascending=False).head(10)"
   ]
  },
  {
   "cell_type": "markdown",
   "id": "1b122498-6a99-4b11-a008-2cae03e1d6b0",
   "metadata": {},
   "source": [
    "#### Visualize Revenue Distribution"
   ]
  },
  {
   "cell_type": "code",
   "execution_count": 16,
   "id": "9f2a220c-3133-4e05-9dc7-05f89a439ac3",
   "metadata": {},
   "outputs": [
    {
     "data": {
      "image/png": "[encoded data removed]",
      "text/plain": [
       "<Figure size 800x400 with 1 Axes>"
      ]
     },
     "metadata": {},
     "output_type": "display_data"
    }
   ],
   "source": [
    "\n",
    "plt.figure(figsize=(8, 4))\n",
    "df.boxplot(column='annual_revenue')\n",
    "plt.title(\"Annual Revenue Boxplot\")\n",
    "plt.show()"
   ]
  },
  {
   "cell_type": "markdown",
   "id": "af416ceb-175e-4328-8cc0-c478bd72489f",
   "metadata": {},
   "source": [
    "#### IQR Method"
   ]
  },
  {
   "cell_type": "code",
   "execution_count": 17,
   "id": "3c4d2491-4478-458d-b630-c70537146a90",
   "metadata": {},
   "outputs": [
    {
     "name": "stdout",
     "output_type": "stream",
     "text": [
      "Revenue > upper bound: 11,960,459\n",
      "Outlier count: 1045\n"
     ]
    },
    {
     "data": {
      "text/html": [
       "<div>\n",
       "<style scoped>\n",
       "    .dataframe tbody tr th:only-of-type {\n",
       "        vertical-align: middle;\n",
       "    }\n",
       "\n",
       "    .dataframe tbody tr th {\n",
       "        vertical-align: top;\n",
       "    }\n",
       "\n",
       "    .dataframe thead th {\n",
       "        text-align: right;\n",
       "    }\n",
       "</style>\n",
       "<table border=\"1\" class=\"dataframe\">\n",
       "  <thead>\n",
       "    <tr style=\"text-align: right;\">\n",
       "      <th></th>\n",
       "      <th>company_name</th>\n",
       "      <th>annual_revenue</th>\n",
       "    </tr>\n",
       "  </thead>\n",
       "  <tbody>\n",
       "    <tr>\n",
       "      <th>17</th>\n",
       "      <td>Ortiz Ltd</td>\n",
       "      <td>1.988227e+07</td>\n",
       "    </tr>\n",
       "    <tr>\n",
       "      <th>18</th>\n",
       "      <td>Sanders, Miller and Murphy</td>\n",
       "      <td>1.226964e+07</td>\n",
       "    </tr>\n",
       "    <tr>\n",
       "      <th>22</th>\n",
       "      <td>Pugh, Henderson and Moon</td>\n",
       "      <td>2.763819e+07</td>\n",
       "    </tr>\n",
       "    <tr>\n",
       "      <th>41</th>\n",
       "      <td>Mendoza Group</td>\n",
       "      <td>1.505715e+07</td>\n",
       "    </tr>\n",
       "    <tr>\n",
       "      <th>53</th>\n",
       "      <td>Stone Group</td>\n",
       "      <td>1.380875e+07</td>\n",
       "    </tr>\n",
       "    <tr>\n",
       "      <th>...</th>\n",
       "      <td>...</td>\n",
       "      <td>...</td>\n",
       "    </tr>\n",
       "    <tr>\n",
       "      <th>9924</th>\n",
       "      <td>Brewer Inc</td>\n",
       "      <td>2.436462e+07</td>\n",
       "    </tr>\n",
       "    <tr>\n",
       "      <th>9938</th>\n",
       "      <td>Ellison PLC</td>\n",
       "      <td>1.426374e+07</td>\n",
       "    </tr>\n",
       "    <tr>\n",
       "      <th>9956</th>\n",
       "      <td>Pollard and Sons</td>\n",
       "      <td>1.000000e+09</td>\n",
       "    </tr>\n",
       "    <tr>\n",
       "      <th>9960</th>\n",
       "      <td>Gomez and Sons</td>\n",
       "      <td>2.247226e+07</td>\n",
       "    </tr>\n",
       "    <tr>\n",
       "      <th>9964</th>\n",
       "      <td>Estrada Ltd</td>\n",
       "      <td>8.234030e+07</td>\n",
       "    </tr>\n",
       "  </tbody>\n",
       "</table>\n",
       "<p>1045 rows × 2 columns</p>\n",
       "</div>"
      ],
      "text/plain": [
       "                    company_name  annual_revenue\n",
       "17                     Ortiz Ltd    1.988227e+07\n",
       "18    Sanders, Miller and Murphy    1.226964e+07\n",
       "22      Pugh, Henderson and Moon    2.763819e+07\n",
       "41                 Mendoza Group    1.505715e+07\n",
       "53                   Stone Group    1.380875e+07\n",
       "...                          ...             ...\n",
       "9924                  Brewer Inc    2.436462e+07\n",
       "9938                 Ellison PLC    1.426374e+07\n",
       "9956            Pollard and Sons    1.000000e+09\n",
       "9960              Gomez and Sons    2.247226e+07\n",
       "9964                 Estrada Ltd    8.234030e+07\n",
       "\n",
       "[1045 rows x 2 columns]"
      ]
     },
     "execution_count": 17,
     "metadata": {},
     "output_type": "execute_result"
    }
   ],
   "source": [
    "Q1 = df['annual_revenue'].quantile(0.25)\n",
    "Q3 = df['annual_revenue'].quantile(0.75)\n",
    "IQR = Q3 - Q1\n",
    "\n",
    "lower_bound = Q1 - 1.5 * IQR\n",
    "upper_bound = Q3 + 1.5 * IQR\n",
    "\n",
    "# Filter outliers\n",
    "outliers = df[df['annual_revenue'] > upper_bound]\n",
    "outliers_count = outliers.shape[0]\n",
    "\n",
    "print(f\"Revenue > upper bound: {upper_bound:,.0f}\")\n",
    "print(f\"Outlier count: {outliers_count}\")\n",
    "outliers[['company_name', 'annual_revenue']]"
   ]
  },
  {
   "cell_type": "markdown",
   "id": "2e67cca0-43b2-439e-b572-6a0fb4db95c0",
   "metadata": {},
   "source": [
    "#### Revenue Outlier Summary\n",
    "\n",
    "- Using the IQR method, over **1,000 outliers** were identified in `annual_revenue`.\n",
    "\n",
    "- Upper bound for normal range ≈ **$11.9M**\n",
    "\n",
    "- Business-rule violations include:\n",
    "  - **Negative revenue** → invalid → set to `0`\n",
    "  - **Revenue > $500M** → cap at **$500M**"
   ]
  },
  {
   "cell_type": "markdown",
   "id": "ab17d736-3b94-49b7-bb17-47f0e8e96122",
   "metadata": {},
   "source": [
    "### 7. Duplicate Emails Handling"
   ]
  },
  {
   "cell_type": "code",
   "execution_count": 19,
   "id": "6f57d664-4606-40ce-a5d5-6eb3b364b5c0",
   "metadata": {},
   "outputs": [
    {
     "data": {
      "text/html": [
       "<div>\n",
       "<style scoped>\n",
       "    .dataframe tbody tr th:only-of-type {\n",
       "        vertical-align: middle;\n",
       "    }\n",
       "\n",
       "    .dataframe tbody tr th {\n",
       "        vertical-align: top;\n",
       "    }\n",
       "\n",
       "    .dataframe thead th {\n",
       "        text-align: right;\n",
       "    }\n",
       "</style>\n",
       "<table border=\"1\" class=\"dataframe\">\n",
       "  <thead>\n",
       "    <tr style=\"text-align: right;\">\n",
       "      <th></th>\n",
       "      <th>lead_id</th>\n",
       "      <th>contact_email</th>\n",
       "      <th>contact_phone</th>\n",
       "    </tr>\n",
       "  </thead>\n",
       "  <tbody>\n",
       "    <tr>\n",
       "      <th>5553</th>\n",
       "      <td>6b3a3e7d-9a67-436b-9b95-be9f083faea2</td>\n",
       "      <td>aaron25@example.org</td>\n",
       "      <td>6646227643 extension 789</td>\n",
       "    </tr>\n",
       "    <tr>\n",
       "      <th>2706</th>\n",
       "      <td>120928e1-1b24-48b0-a51d-dbca998aae24</td>\n",
       "      <td>aaron25@example.org</td>\n",
       "      <td>None</td>\n",
       "    </tr>\n",
       "    <tr>\n",
       "      <th>1729</th>\n",
       "      <td>0d6aaa35-b737-40ba-b8a0-aa4f4db7aec1</td>\n",
       "      <td>aaronthompson@example.org</td>\n",
       "      <td>(297)339-6707x106 x123</td>\n",
       "    </tr>\n",
       "    <tr>\n",
       "      <th>4771</th>\n",
       "      <td>ad6d1ef8-3e9b-4869-b143-c5766ceee7c2</td>\n",
       "      <td>aaronthompson@example.org</td>\n",
       "      <td>+1-948-623-2204x144</td>\n",
       "    </tr>\n",
       "    <tr>\n",
       "      <th>8921</th>\n",
       "      <td>b202ebc0-9662-4e75-9858-b7743d360bcf</td>\n",
       "      <td>aclark@example.org</td>\n",
       "      <td>+1-830-825-3216x718</td>\n",
       "    </tr>\n",
       "    <tr>\n",
       "      <th>...</th>\n",
       "      <td>...</td>\n",
       "      <td>...</td>\n",
       "      <td>...</td>\n",
       "    </tr>\n",
       "    <tr>\n",
       "      <th>6249</th>\n",
       "      <td>423fadca-0d7c-43fa-96fb-16cea8f58797</td>\n",
       "      <td>zanderson@example.org</td>\n",
       "      <td>824.897.0730</td>\n",
       "    </tr>\n",
       "    <tr>\n",
       "      <th>5630</th>\n",
       "      <td>5f63c2bd-acdd-44d3-906a-f30193a5fbb4</td>\n",
       "      <td>zjones@example.org</td>\n",
       "      <td>None</td>\n",
       "    </tr>\n",
       "    <tr>\n",
       "      <th>9060</th>\n",
       "      <td>bd5fd1c9-480b-4c0b-9830-47b8fbec31d4</td>\n",
       "      <td>zjones@example.org</td>\n",
       "      <td>350-901-8421</td>\n",
       "    </tr>\n",
       "    <tr>\n",
       "      <th>954</th>\n",
       "      <td>6a4b0a8f-0434-4cec-a95a-20e3bdf1de4e</td>\n",
       "      <td>zryan@example.net</td>\n",
       "      <td>None</td>\n",
       "    </tr>\n",
       "    <tr>\n",
       "      <th>3225</th>\n",
       "      <td>a6c5350f-0a4c-4d48-96ac-1347671ba3f6</td>\n",
       "      <td>zryan@example.net</td>\n",
       "      <td>001-294-965-8622x41899</td>\n",
       "    </tr>\n",
       "  </tbody>\n",
       "</table>\n",
       "<p>430 rows × 3 columns</p>\n",
       "</div>"
      ],
      "text/plain": [
       "                                   lead_id              contact_email  \\\n",
       "5553  6b3a3e7d-9a67-436b-9b95-be9f083faea2        aaron25@example.org   \n",
       "2706  120928e1-1b24-48b0-a51d-dbca998aae24        aaron25@example.org   \n",
       "1729  0d6aaa35-b737-40ba-b8a0-aa4f4db7aec1  aaronthompson@example.org   \n",
       "4771  ad6d1ef8-3e9b-4869-b143-c5766ceee7c2  aaronthompson@example.org   \n",
       "8921  b202ebc0-9662-4e75-9858-b7743d360bcf         aclark@example.org   \n",
       "...                                    ...                        ...   \n",
       "6249  423fadca-0d7c-43fa-96fb-16cea8f58797      zanderson@example.org   \n",
       "5630  5f63c2bd-acdd-44d3-906a-f30193a5fbb4         zjones@example.org   \n",
       "9060  bd5fd1c9-480b-4c0b-9830-47b8fbec31d4         zjones@example.org   \n",
       "954   6a4b0a8f-0434-4cec-a95a-20e3bdf1de4e          zryan@example.net   \n",
       "3225  a6c5350f-0a4c-4d48-96ac-1347671ba3f6          zryan@example.net   \n",
       "\n",
       "                 contact_phone  \n",
       "5553  6646227643 extension 789  \n",
       "2706                      None  \n",
       "1729    (297)339-6707x106 x123  \n",
       "4771       +1-948-623-2204x144  \n",
       "8921       +1-830-825-3216x718  \n",
       "...                        ...  \n",
       "6249              824.897.0730  \n",
       "5630                      None  \n",
       "9060              350-901-8421  \n",
       "954                       None  \n",
       "3225    001-294-965-8622x41899  \n",
       "\n",
       "[430 rows x 3 columns]"
      ]
     },
     "execution_count": 19,
     "metadata": {},
     "output_type": "execute_result"
    }
   ],
   "source": [
    "# Identify duplicated contact_email values\n",
    "duplicate_emails = df[df.duplicated(subset='contact_email', keep=False)]\n",
    "\n",
    "# Show only lead_id and contact_email for these duplicates\n",
    "duplicate_emails_sorted = duplicate_emails[['lead_id', 'contact_email','contact_phone']].sort_values(by='contact_email')\n",
    "duplicate_emails_sorted"
   ]
  },
  {
   "cell_type": "markdown",
   "id": "c4441f99-407a-4129-b1ec-8f4f498e2478",
   "metadata": {},
   "source": [
    "#### Duplicate Email Addresses Detected\n",
    "\n",
    "- Although `lead_id` is unique, some leads share the same `contact_email`.\n",
    "- In some cases, one record has a phone number while the other does not.\n",
    "- This duplication can lead to double-counting in funnel conversion, revenue per lead, or engagement analysis.\n",
    "- ** Keep only one lead per unique email address ( based on date)"
   ]
  },
  {
   "cell_type": "code",
   "execution_count": null,
   "id": "67477609-8cb7-45d1-a274-972ba2c62678",
   "metadata": {},
   "outputs": [],
   "source": []
  },
  {
   "cell_type": "markdown",
   "id": "b2557090-26d0-4803-8559-af137e69a7ba",
   "metadata": {},
   "source": [
    "#  Contact Events Table Analysis\n",
    "Understanding data quality issues before building the `stg_contact_events` staging model."
   ]
  },
  {
   "cell_type": "code",
   "execution_count": 12,
   "id": "33da639d-1d1d-4a65-abc4-e5fc95bc598f",
   "metadata": {},
   "outputs": [
    {
     "data": {
      "text/html": [
       "<div>\n",
       "<style scoped>\n",
       "    .dataframe tbody tr th:only-of-type {\n",
       "        vertical-align: middle;\n",
       "    }\n",
       "\n",
       "    .dataframe tbody tr th {\n",
       "        vertical-align: top;\n",
       "    }\n",
       "\n",
       "    .dataframe thead th {\n",
       "        text-align: right;\n",
       "    }\n",
       "</style>\n",
       "<table border=\"1\" class=\"dataframe\">\n",
       "  <thead>\n",
       "    <tr style=\"text-align: right;\">\n",
       "      <th></th>\n",
       "      <th>event_id</th>\n",
       "      <th>lead_id</th>\n",
       "      <th>event_date</th>\n",
       "      <th>contact_type</th>\n",
       "      <th>response_type</th>\n",
       "    </tr>\n",
       "  </thead>\n",
       "  <tbody>\n",
       "    <tr>\n",
       "      <th>0</th>\n",
       "      <td>bc29197a-59c8-4369-826b-52e7c0fd08e4</td>\n",
       "      <td>002ce5fb-d808-451a-b709-638cbb8550d2</td>\n",
       "      <td>2024-04-17</td>\n",
       "      <td>Email</td>\n",
       "      <td>No Response</td>\n",
       "    </tr>\n",
       "    <tr>\n",
       "      <th>1</th>\n",
       "      <td>26f23ce7-ad0c-4ab2-ae68-82f8d161d6cb</td>\n",
       "      <td>002ce5fb-d808-451a-b709-638cbb8550d2</td>\n",
       "      <td>2024-04-20</td>\n",
       "      <td>Phone Call</td>\n",
       "      <td>No Response</td>\n",
       "    </tr>\n",
       "    <tr>\n",
       "      <th>2</th>\n",
       "      <td>c8d29c26-d59c-4b78-b373-8422d0488ec7</td>\n",
       "      <td>002ce5fb-d808-451a-b709-638cbb8550d2</td>\n",
       "      <td>2024-05-04</td>\n",
       "      <td>LinkedIn Message</td>\n",
       "      <td>No Response</td>\n",
       "    </tr>\n",
       "    <tr>\n",
       "      <th>3</th>\n",
       "      <td>af123e4e-927e-4172-b8b4-10d9d888fe65</td>\n",
       "      <td>53b14edc-b37f-4f74-afbe-46a4ef7a7c2e</td>\n",
       "      <td>2024-05-19</td>\n",
       "      <td>Email</td>\n",
       "      <td>Responded</td>\n",
       "    </tr>\n",
       "    <tr>\n",
       "      <th>4</th>\n",
       "      <td>a6511c2a-8f37-4ddb-8512-69caabf82e94</td>\n",
       "      <td>53b14edc-b37f-4f74-afbe-46a4ef7a7c2e</td>\n",
       "      <td>2024-05-24</td>\n",
       "      <td>Demo Request</td>\n",
       "      <td>No Response</td>\n",
       "    </tr>\n",
       "  </tbody>\n",
       "</table>\n",
       "</div>"
      ],
      "text/plain": [
       "                               event_id                               lead_id  \\\n",
       "0  bc29197a-59c8-4369-826b-52e7c0fd08e4  002ce5fb-d808-451a-b709-638cbb8550d2   \n",
       "1  26f23ce7-ad0c-4ab2-ae68-82f8d161d6cb  002ce5fb-d808-451a-b709-638cbb8550d2   \n",
       "2  c8d29c26-d59c-4b78-b373-8422d0488ec7  002ce5fb-d808-451a-b709-638cbb8550d2   \n",
       "3  af123e4e-927e-4172-b8b4-10d9d888fe65  53b14edc-b37f-4f74-afbe-46a4ef7a7c2e   \n",
       "4  a6511c2a-8f37-4ddb-8512-69caabf82e94  53b14edc-b37f-4f74-afbe-46a4ef7a7c2e   \n",
       "\n",
       "   event_date      contact_type response_type  \n",
       "0  2024-04-17             Email   No Response  \n",
       "1  2024-04-20        Phone Call   No Response  \n",
       "2  2024-05-04  LinkedIn Message   No Response  \n",
       "3  2024-05-19             Email     Responded  \n",
       "4  2024-05-24      Demo Request   No Response  "
      ]
     },
     "execution_count": 12,
     "metadata": {},
     "output_type": "execute_result"
    }
   ],
   "source": [
    "df_ce.head()"
   ]
  },
  {
   "cell_type": "markdown",
   "id": "7fd9363c-e369-4e03-9bcc-a6259a94ecca",
   "metadata": {},
   "source": [
    "#### Check for Nulls and Data Types"
   ]
  },
  {
   "cell_type": "code",
   "execution_count": 15,
   "id": "ae482e5a-c700-4397-b539-9505e2605ed0",
   "metadata": {},
   "outputs": [
    {
     "name": "stdout",
     "output_type": "stream",
     "text": [
      "<class 'pandas.core.frame.DataFrame'>\n",
      "RangeIndex: 35921 entries, 0 to 35920\n",
      "Data columns (total 5 columns):\n",
      " #   Column         Non-Null Count  Dtype \n",
      "---  ------         --------------  ----- \n",
      " 0   event_id       35921 non-null  object\n",
      " 1   lead_id        35921 non-null  object\n",
      " 2   event_date     35921 non-null  object\n",
      " 3   contact_type   35921 non-null  object\n",
      " 4   response_type  33825 non-null  object\n",
      "dtypes: object(5)\n",
      "memory usage: 1.4+ MB\n"
     ]
    }
   ],
   "source": [
    "df_ce.info()"
   ]
  },
  {
   "cell_type": "markdown",
   "id": "1f16fc56-9a7d-4222-89f1-54364a2ed28b",
   "metadata": {},
   "source": [
    "Observation:\n",
    "- Table has 35,921 rows and 5 columns.\n",
    "- `response_type` has 2,096 missing values."
   ]
  },
  {
   "cell_type": "markdown",
   "id": "8b0862b4-f32b-48ec-b039-cb32f302ead3",
   "metadata": {},
   "source": [
    "### 1. Check for missing values in response_type"
   ]
  },
  {
   "cell_type": "code",
   "execution_count": 23,
   "id": "3269c015-a8c9-4ec1-893f-98836e1517b4",
   "metadata": {},
   "outputs": [
    {
     "data": {
      "text/plain": [
       "response_type\n",
       "No Response           20296\n",
       "Responded              6242\n",
       "Interested             3723\n",
       "Callback Requested     2486\n",
       "None                   2096\n",
       "                       1078\n",
       "Name: count, dtype: int64"
      ]
     },
     "execution_count": 23,
     "metadata": {},
     "output_type": "execute_result"
    }
   ],
   "source": [
    "df_ce['response_type'].value_counts(dropna=False)"
   ]
  },
  {
   "cell_type": "code",
   "execution_count": 25,
   "id": "bb4249e5-4340-4d4f-8722-f9eaf9e6662c",
   "metadata": {},
   "outputs": [
    {
     "data": {
      "text/plain": [
       "np.int64(2096)"
      ]
     },
     "execution_count": 25,
     "metadata": {},
     "output_type": "execute_result"
    }
   ],
   "source": [
    "df_ce['response_type'].isnull().sum()"
   ]
  },
  {
   "cell_type": "markdown",
   "id": "10f62082-c4c4-4a57-b539-337f0d1b23b0",
   "metadata": {},
   "source": [
    "Observation:\n",
    "- 2,096 values are null in `response_type`.\n",
    "- Another 1,078 rows contain empty string `''` or \"None\" as string.\n",
    "- We’ll normalize all missing or non-meaningful responses as `\"No Response\"` in the staging model."
   ]
  },
  {
   "cell_type": "markdown",
   "id": "9df827c3-6b29-488a-a86c-2c127678ec47",
   "metadata": {},
   "source": [
    "### 2. Check contact_type formatting issues"
   ]
  },
  {
   "cell_type": "code",
   "execution_count": 26,
   "id": "4ce6ca70-10e9-4183-9cff-da53e0efa965",
   "metadata": {},
   "outputs": [
    {
     "data": {
      "text/plain": [
       "contact_type\n",
       "Email               11995\n",
       "Phone Call           8793\n",
       "LinkedIn Message     6261\n",
       "Demo Request         6006\n",
       "demo request          800\n",
       "email                 789\n",
       "call                  383\n",
       "phone call            361\n",
       "linkedin              269\n",
       "LinkedIn              264\n",
       "Name: count, dtype: int64"
      ]
     },
     "execution_count": 26,
     "metadata": {},
     "output_type": "execute_result"
    }
   ],
   "source": [
    "df_ce['contact_type'].value_counts(dropna=False)"
   ]
  },
  {
   "cell_type": "markdown",
   "id": "7b5da896-54ed-4951-a475-be764586b33f",
   "metadata": {},
   "source": [
    "Observation:\n",
    "- There are casing issues (e.g., 'email', 'Email', 'PHONE CALL') and inconsistent spellings ('linkedin', 'LinkedIn').\n",
    "- These will be standardized using `.strip().title()` and mapped to canonical types in staging."
   ]
  },
  {
   "cell_type": "code",
   "execution_count": null,
   "id": "d689d76f-5b59-40c5-ab18-633310e9d6a0",
   "metadata": {},
   "outputs": [],
   "source": []
  },
  {
   "cell_type": "markdown",
   "id": "62bf2691-82c2-4f22-8e73-1ded7b30e752",
   "metadata": {},
   "source": [
    "# Funnel Stages Table Analysis\n",
    "Reviewing data quality issues to inform our staging logic for `stg_funnel_stages`."
   ]
  },
  {
   "cell_type": "code",
   "execution_count": 29,
   "id": "86a08018-39c9-4ddd-b976-41abbfb3fcdb",
   "metadata": {},
   "outputs": [
    {
     "data": {
      "text/html": [
       "<div>\n",
       "<style scoped>\n",
       "    .dataframe tbody tr th:only-of-type {\n",
       "        vertical-align: middle;\n",
       "    }\n",
       "\n",
       "    .dataframe tbody tr th {\n",
       "        vertical-align: top;\n",
       "    }\n",
       "\n",
       "    .dataframe thead th {\n",
       "        text-align: right;\n",
       "    }\n",
       "</style>\n",
       "<table border=\"1\" class=\"dataframe\">\n",
       "  <thead>\n",
       "    <tr style=\"text-align: right;\">\n",
       "      <th></th>\n",
       "      <th>stage_id</th>\n",
       "      <th>lead_id</th>\n",
       "      <th>stage_name</th>\n",
       "      <th>stage_date</th>\n",
       "      <th>stage_order</th>\n",
       "    </tr>\n",
       "  </thead>\n",
       "  <tbody>\n",
       "    <tr>\n",
       "      <th>0</th>\n",
       "      <td>1849eac1-41f6-47b1-8778-383a80e824db</td>\n",
       "      <td>002ce5fb-d808-451a-b709-638cbb8550d2</td>\n",
       "      <td>Contacted</td>\n",
       "      <td>2024-04-17</td>\n",
       "      <td>2.0</td>\n",
       "    </tr>\n",
       "    <tr>\n",
       "      <th>1</th>\n",
       "      <td>a3a4fdfb-d306-4091-bcb7-7a566a2636cb</td>\n",
       "      <td>002ce5fb-d808-451a-b709-638cbb8550d2</td>\n",
       "      <td>Qualified</td>\n",
       "      <td>2024-04-26</td>\n",
       "      <td>3.0</td>\n",
       "    </tr>\n",
       "    <tr>\n",
       "      <th>2</th>\n",
       "      <td>14027d65-5d48-41df-adc8-94d6f9790c44</td>\n",
       "      <td>002ce5fb-d808-451a-b709-638cbb8550d2</td>\n",
       "      <td>demo scheduled</td>\n",
       "      <td>2024-04-18</td>\n",
       "      <td>4.0</td>\n",
       "    </tr>\n",
       "    <tr>\n",
       "      <th>3</th>\n",
       "      <td>51c84aae-07db-4963-85ec-3ce92563183c</td>\n",
       "      <td>002ce5fb-d808-451a-b709-638cbb8550d2</td>\n",
       "      <td>Proposal Sent</td>\n",
       "      <td>2024-04-26</td>\n",
       "      <td>5.0</td>\n",
       "    </tr>\n",
       "    <tr>\n",
       "      <th>4</th>\n",
       "      <td>d1f5c519-5511-4a69-9bf1-bc3a1adf32b5</td>\n",
       "      <td>53b14edc-b37f-4f74-afbe-46a4ef7a7c2e</td>\n",
       "      <td>Contacted</td>\n",
       "      <td>2024-05-18</td>\n",
       "      <td>2.0</td>\n",
       "    </tr>\n",
       "  </tbody>\n",
       "</table>\n",
       "</div>"
      ],
      "text/plain": [
       "                               stage_id                               lead_id  \\\n",
       "0  1849eac1-41f6-47b1-8778-383a80e824db  002ce5fb-d808-451a-b709-638cbb8550d2   \n",
       "1  a3a4fdfb-d306-4091-bcb7-7a566a2636cb  002ce5fb-d808-451a-b709-638cbb8550d2   \n",
       "2  14027d65-5d48-41df-adc8-94d6f9790c44  002ce5fb-d808-451a-b709-638cbb8550d2   \n",
       "3  51c84aae-07db-4963-85ec-3ce92563183c  002ce5fb-d808-451a-b709-638cbb8550d2   \n",
       "4  d1f5c519-5511-4a69-9bf1-bc3a1adf32b5  53b14edc-b37f-4f74-afbe-46a4ef7a7c2e   \n",
       "\n",
       "       stage_name  stage_date  stage_order  \n",
       "0       Contacted  2024-04-17          2.0  \n",
       "1       Qualified  2024-04-26          3.0  \n",
       "2  demo scheduled  2024-04-18          4.0  \n",
       "3   Proposal Sent  2024-04-26          5.0  \n",
       "4       Contacted  2024-05-18          2.0  "
      ]
     },
     "execution_count": 29,
     "metadata": {},
     "output_type": "execute_result"
    }
   ],
   "source": [
    "df_fs.head()"
   ]
  },
  {
   "cell_type": "markdown",
   "id": "52b39a28-16fd-4cf0-bced-c7dc5bdc01fe",
   "metadata": {},
   "source": [
    "####  Check for Nulls and Data Types"
   ]
  },
  {
   "cell_type": "code",
   "execution_count": 28,
   "id": "26188c3e-5454-4eac-bf32-1e57fcaba917",
   "metadata": {},
   "outputs": [
    {
     "name": "stdout",
     "output_type": "stream",
     "text": [
      "<class 'pandas.core.frame.DataFrame'>\n",
      "RangeIndex: 20145 entries, 0 to 20144\n",
      "Data columns (total 5 columns):\n",
      " #   Column       Non-Null Count  Dtype  \n",
      "---  ------       --------------  -----  \n",
      " 0   stage_id     20145 non-null  object \n",
      " 1   lead_id      20145 non-null  object \n",
      " 2   stage_name   20145 non-null  object \n",
      " 3   stage_date   20145 non-null  object \n",
      " 4   stage_order  19843 non-null  float64\n",
      "dtypes: float64(1), object(4)\n",
      "memory usage: 787.0+ KB\n"
     ]
    }
   ],
   "source": [
    "df_fs.info()"
   ]
  },
  {
   "cell_type": "markdown",
   "id": "5e05102d-3b4e-43a4-a825-bf8935e07d83",
   "metadata": {},
   "source": [
    "#### 1. Check for missing or invalid stage_order\n",
    "\n",
    "The `stage_order` column is expected to hold values from 1 to 7, representing the standard progression through the sales funnel.\n",
    "\n",
    "Let’s check for missing and out-of-range values."
   ]
  },
  {
   "cell_type": "code",
   "execution_count": 31,
   "id": "89109f1c-ab73-45f9-9ee4-4950dee279c0",
   "metadata": {},
   "outputs": [
    {
     "data": {
      "text/plain": [
       "stage_order\n",
       "-5.0       96\n",
       "-1.0       99\n",
       " 0.0      100\n",
       " 2.0     5563\n",
       " 3.0     5010\n",
       " 4.0     4059\n",
       " 5.0     3018\n",
       " 6.0     1696\n",
       " 8.0      109\n",
       " 99.0      93\n",
       " NaN      302\n",
       "Name: count, dtype: int64"
      ]
     },
     "execution_count": 31,
     "metadata": {},
     "output_type": "execute_result"
    }
   ],
   "source": [
    "df_fs['stage_order'].value_counts(dropna=False).sort_index()"
   ]
  },
  {
   "cell_type": "markdown",
   "id": "3ba56d6c-0655-4fce-b447-3a32b52bc55a",
   "metadata": {},
   "source": [
    "Observation:\n",
    "- 302 records have missing `stage_order` (NaN).\n",
    "- Several entries have invalid values:\n",
    "  - Negative values: -5.0 (96), -1.0 (99)\n",
    "  - Zero value: 0.0 (100)\n",
    "  - Out-of-range high values: 8.0 (109), 99.0 (93)\n",
    "    \n",
    "- These need to be fixed in the staging layer:\n",
    "  - Invalid values will be corrected or mapped using `stage_name`.\n",
    "  - Records that cannot be resolved logically may be flagged or dropped."
   ]
  },
  {
   "cell_type": "markdown",
   "id": "5eda0989-1d82-4553-b1fc-1e98657cc3c7",
   "metadata": {},
   "source": [
    "#### 2. Explore Records with Invalid Stage Order"
   ]
  },
  {
   "cell_type": "code",
   "execution_count": 40,
   "id": "6a2eac31-3812-4e15-bc57-827dbe3e9af6",
   "metadata": {},
   "outputs": [
    {
     "data": {
      "text/html": [
       "<div>\n",
       "<style scoped>\n",
       "    .dataframe tbody tr th:only-of-type {\n",
       "        vertical-align: middle;\n",
       "    }\n",
       "\n",
       "    .dataframe tbody tr th {\n",
       "        vertical-align: top;\n",
       "    }\n",
       "\n",
       "    .dataframe thead th {\n",
       "        text-align: right;\n",
       "    }\n",
       "</style>\n",
       "<table border=\"1\" class=\"dataframe\">\n",
       "  <thead>\n",
       "    <tr style=\"text-align: right;\">\n",
       "      <th></th>\n",
       "      <th>lead_id</th>\n",
       "      <th>stage_order</th>\n",
       "      <th>stage_name</th>\n",
       "    </tr>\n",
       "  </thead>\n",
       "  <tbody>\n",
       "    <tr>\n",
       "      <th>12</th>\n",
       "      <td>111e6929-f1a3-4dbf-81c4-6934ae1946a0</td>\n",
       "      <td>99.0</td>\n",
       "      <td>Qualified</td>\n",
       "    </tr>\n",
       "    <tr>\n",
       "      <th>57</th>\n",
       "      <td>a5ab82b4-a109-445d-a8cd-6501483e2ea8</td>\n",
       "      <td>-1.0</td>\n",
       "      <td>mql</td>\n",
       "    </tr>\n",
       "    <tr>\n",
       "      <th>123</th>\n",
       "      <td>9fd533ac-b084-4f34-9422-616a7d77de28</td>\n",
       "      <td>99.0</td>\n",
       "      <td>contacted</td>\n",
       "    </tr>\n",
       "    <tr>\n",
       "      <th>142</th>\n",
       "      <td>8690d62a-5af6-44d6-b3af-8d85c9de4a2c</td>\n",
       "      <td>-1.0</td>\n",
       "      <td>Proposal Sent</td>\n",
       "    </tr>\n",
       "    <tr>\n",
       "      <th>158</th>\n",
       "      <td>5679dcbe-9ad8-439f-8a32-d78694cf50d3</td>\n",
       "      <td>-1.0</td>\n",
       "      <td>Demo Scheduled</td>\n",
       "    </tr>\n",
       "  </tbody>\n",
       "</table>\n",
       "</div>"
      ],
      "text/plain": [
       "                                  lead_id  stage_order      stage_name\n",
       "12   111e6929-f1a3-4dbf-81c4-6934ae1946a0         99.0       Qualified\n",
       "57   a5ab82b4-a109-445d-a8cd-6501483e2ea8         -1.0             mql\n",
       "123  9fd533ac-b084-4f34-9422-616a7d77de28         99.0       contacted\n",
       "142  8690d62a-5af6-44d6-b3af-8d85c9de4a2c         -1.0   Proposal Sent\n",
       "158  5679dcbe-9ad8-439f-8a32-d78694cf50d3         -1.0  Demo Scheduled"
      ]
     },
     "execution_count": 40,
     "metadata": {},
     "output_type": "execute_result"
    }
   ],
   "source": [
    "# Also check for stage orders outside expected range (1 to 7)\n",
    "invalid_stage_orders = df_fs[(df_fs['stage_order'] < 1) | (df_fs['stage_order'] > 7)]\n",
    "invalid_stage_orders[['lead_id', 'stage_order', 'stage_name']].head()"
   ]
  },
  {
   "cell_type": "markdown",
   "id": "2b361a7d-f61e-4711-a4e6-e3bbb8f3d9e6",
   "metadata": {},
   "source": [
    "Sample Issues:\n",
    "- `stage_order` values like 99.0 or -1.0 are clearly placeholders or errors.\n",
    "- These entries still have meaningful `stage_name` values like “Qualified” or “Proposal Sent”.\n",
    "- We will use these `stage_name` values to assign the correct order during staging transformation."
   ]
  },
  {
   "cell_type": "markdown",
   "id": "495eda66-b9d5-4036-9f59-60ab69602988",
   "metadata": {},
   "source": [
    "#### 3. Check for inconsistent stage_name values"
   ]
  },
  {
   "cell_type": "code",
   "execution_count": 34,
   "id": "7b9bb67b-452f-46ee-ac10-07dd1b6e1ebc",
   "metadata": {},
   "outputs": [
    {
     "data": {
      "text/plain": [
       "stage_name\n",
       "Contacted              5317\n",
       "Qualified              4804\n",
       "Demo Scheduled         3891\n",
       "Proposal Sent          2880\n",
       "Closed Won             1641\n",
       "contacted               469\n",
       "demo                    173\n",
       "mql                     147\n",
       "demo scheduled          147\n",
       "marketing qualified     146\n",
       "qualified               140\n",
       "quote sent               93\n",
       "proposal                 90\n",
       "quote                    79\n",
       "closed won               50\n",
       "closed-won               43\n",
       "won                      35\n",
       "Name: count, dtype: int64"
      ]
     },
     "execution_count": 34,
     "metadata": {},
     "output_type": "execute_result"
    }
   ],
   "source": [
    "df_fs['stage_name'].value_counts(dropna=False)"
   ]
  },
  {
   "cell_type": "markdown",
   "id": "91eb1d87-1e80-4a6e-963b-8a969f8c5fad",
   "metadata": {},
   "source": [
    "Observation:\n",
    "- Multiple variations exist for the same logical stage:\n",
    "  - 'Qualified', 'qualified'\n",
    "  - 'Demo Scheduled', 'demo scheduled', 'demo'\n",
    "  - 'Proposal Sent', 'quote sent', 'proposal', 'quote'\n",
    "  - 'Closed Won', 'closed won', 'closed-won', 'won'\n",
    "- These inconsistencies will be standardized in the staging model using title case and mapping logic."
   ]
  },
  {
   "cell_type": "markdown",
   "id": "8a62a382-73ea-4773-91e3-3fae4b0e9043",
   "metadata": {},
   "source": [
    "#### 4. Missing stage_order entries"
   ]
  },
  {
   "cell_type": "code",
   "execution_count": 35,
   "id": "f0eda7f3-6f3c-4903-8257-5e7b05c06a11",
   "metadata": {},
   "outputs": [
    {
     "data": {
      "text/html": [
       "<div>\n",
       "<style scoped>\n",
       "    .dataframe tbody tr th:only-of-type {\n",
       "        vertical-align: middle;\n",
       "    }\n",
       "\n",
       "    .dataframe tbody tr th {\n",
       "        vertical-align: top;\n",
       "    }\n",
       "\n",
       "    .dataframe thead th {\n",
       "        text-align: right;\n",
       "    }\n",
       "</style>\n",
       "<table border=\"1\" class=\"dataframe\">\n",
       "  <thead>\n",
       "    <tr style=\"text-align: right;\">\n",
       "      <th></th>\n",
       "      <th>lead_id</th>\n",
       "      <th>stage_name</th>\n",
       "    </tr>\n",
       "  </thead>\n",
       "  <tbody>\n",
       "    <tr>\n",
       "      <th>67</th>\n",
       "      <td>337e0cc0-c398-4f88-97a3-b8cb7565b408</td>\n",
       "      <td>Demo Scheduled</td>\n",
       "    </tr>\n",
       "    <tr>\n",
       "      <th>136</th>\n",
       "      <td>fbf463f5-fe9c-4fc9-8708-dfa73d9da9d9</td>\n",
       "      <td>Demo Scheduled</td>\n",
       "    </tr>\n",
       "    <tr>\n",
       "      <th>144</th>\n",
       "      <td>47c382b3-22c8-464c-8bb5-d5389d45da89</td>\n",
       "      <td>Contacted</td>\n",
       "    </tr>\n",
       "    <tr>\n",
       "      <th>182</th>\n",
       "      <td>e8e7eea7-0a4c-4bef-9a1f-85823ef557d7</td>\n",
       "      <td>demo scheduled</td>\n",
       "    </tr>\n",
       "    <tr>\n",
       "      <th>360</th>\n",
       "      <td>e5d2a4d6-c2e9-4562-a0b5-e083e6c7b99f</td>\n",
       "      <td>Demo Scheduled</td>\n",
       "    </tr>\n",
       "  </tbody>\n",
       "</table>\n",
       "</div>"
      ],
      "text/plain": [
       "                                  lead_id      stage_name\n",
       "67   337e0cc0-c398-4f88-97a3-b8cb7565b408  Demo Scheduled\n",
       "136  fbf463f5-fe9c-4fc9-8708-dfa73d9da9d9  Demo Scheduled\n",
       "144  47c382b3-22c8-464c-8bb5-d5389d45da89       Contacted\n",
       "182  e8e7eea7-0a4c-4bef-9a1f-85823ef557d7  demo scheduled\n",
       "360  e5d2a4d6-c2e9-4562-a0b5-e083e6c7b99f  Demo Scheduled"
      ]
     },
     "execution_count": 35,
     "metadata": {},
     "output_type": "execute_result"
    }
   ],
   "source": [
    "df_fs[df_fs['stage_order'].isnull()][['lead_id', 'stage_name']].head()"
   ]
  },
  {
   "cell_type": "markdown",
   "id": "3c6f6463-141a-4fc3-be68-52890b6aa431",
   "metadata": {},
   "source": [
    "Observation:\n",
    "- Some records (e.g., 'Demo Scheduled', 'Contacted', 'demo scheduled') are missing `stage_order`.\n",
    "- These will be mapped to correct values based on stage name in staging.\n",
    "- If `stage_name` is not mappable, we may drop or flag them during transformation."
   ]
  },
  {
   "cell_type": "code",
   "execution_count": null,
   "id": "a8472a3f-be4a-4369-8cfb-d37a3eddb6d2",
   "metadata": {},
   "outputs": [],
   "source": []
  },
  {
   "cell_type": "markdown",
   "id": "e3699e51-abab-46dc-a56b-bb16ffb177ed",
   "metadata": {},
   "source": [
    "# 4. Outcomes Table Analysis\n",
    "Identifying key data quality issues to guide our staging logic for `stg_outcomes.sql`."
   ]
  },
  {
   "cell_type": "markdown",
   "id": "23f4f152-1424-42c2-820d-495126c62a30",
   "metadata": {},
   "source": [
    "#### 1. Preview of `outcomes` Table"
   ]
  },
  {
   "cell_type": "code",
   "execution_count": 43,
   "id": "8d1ae98e-5a11-4206-9c70-374849256e73",
   "metadata": {},
   "outputs": [
    {
     "data": {
      "text/html": [
       "<div>\n",
       "<style scoped>\n",
       "    .dataframe tbody tr th:only-of-type {\n",
       "        vertical-align: middle;\n",
       "    }\n",
       "\n",
       "    .dataframe tbody tr th {\n",
       "        vertical-align: top;\n",
       "    }\n",
       "\n",
       "    .dataframe thead th {\n",
       "        text-align: right;\n",
       "    }\n",
       "</style>\n",
       "<table border=\"1\" class=\"dataframe\">\n",
       "  <thead>\n",
       "    <tr style=\"text-align: right;\">\n",
       "      <th></th>\n",
       "      <th>outcome_id</th>\n",
       "      <th>lead_id</th>\n",
       "      <th>converted</th>\n",
       "      <th>revenue</th>\n",
       "      <th>outcome_date</th>\n",
       "      <th>days_to_close</th>\n",
       "    </tr>\n",
       "  </thead>\n",
       "  <tbody>\n",
       "    <tr>\n",
       "      <th>0</th>\n",
       "      <td>ec0da8ae-5cd2-47d8-a757-a97019a6c772</td>\n",
       "      <td>8d2d1774-db4f-4dc1-bc00-a9726ec8f9d8</td>\n",
       "      <td>1</td>\n",
       "      <td>31010.071131</td>\n",
       "      <td>2024-09-02</td>\n",
       "      <td>121</td>\n",
       "    </tr>\n",
       "    <tr>\n",
       "      <th>1</th>\n",
       "      <td>7781fcd3-e512-4361-9728-3c8eeaaf96de</td>\n",
       "      <td>2ce56e80-c4a1-47e3-aabf-9ee6d7eb6399</td>\n",
       "      <td>1</td>\n",
       "      <td>95859.744954</td>\n",
       "      <td>2024-03-26</td>\n",
       "      <td>3</td>\n",
       "    </tr>\n",
       "    <tr>\n",
       "      <th>2</th>\n",
       "      <td>3dcfe9d8-5166-49ea-bd49-d9d071dade73</td>\n",
       "      <td>c254ffba-0a9a-485d-a5d4-7113e75211ce</td>\n",
       "      <td>1</td>\n",
       "      <td>28320.469325</td>\n",
       "      <td>2024-03-16</td>\n",
       "      <td>11</td>\n",
       "    </tr>\n",
       "    <tr>\n",
       "      <th>3</th>\n",
       "      <td>30785f67-1398-4a14-addf-83aac53c917c</td>\n",
       "      <td>a5ab82b4-a109-445d-a8cd-6501483e2ea8</td>\n",
       "      <td>1</td>\n",
       "      <td>63652.674582</td>\n",
       "      <td>2024-02-28</td>\n",
       "      <td>39</td>\n",
       "    </tr>\n",
       "    <tr>\n",
       "      <th>4</th>\n",
       "      <td>cb9c1451-d839-43ac-8fbc-dcbd29cc7b87</td>\n",
       "      <td>337e0cc0-c398-4f88-97a3-b8cb7565b408</td>\n",
       "      <td>1</td>\n",
       "      <td>30496.124536</td>\n",
       "      <td>2024-07-29</td>\n",
       "      <td>79</td>\n",
       "    </tr>\n",
       "  </tbody>\n",
       "</table>\n",
       "</div>"
      ],
      "text/plain": [
       "                             outcome_id                               lead_id  \\\n",
       "0  ec0da8ae-5cd2-47d8-a757-a97019a6c772  8d2d1774-db4f-4dc1-bc00-a9726ec8f9d8   \n",
       "1  7781fcd3-e512-4361-9728-3c8eeaaf96de  2ce56e80-c4a1-47e3-aabf-9ee6d7eb6399   \n",
       "2  3dcfe9d8-5166-49ea-bd49-d9d071dade73  c254ffba-0a9a-485d-a5d4-7113e75211ce   \n",
       "3  30785f67-1398-4a14-addf-83aac53c917c  a5ab82b4-a109-445d-a8cd-6501483e2ea8   \n",
       "4  cb9c1451-d839-43ac-8fbc-dcbd29cc7b87  337e0cc0-c398-4f88-97a3-b8cb7565b408   \n",
       "\n",
       "   converted       revenue outcome_date  days_to_close  \n",
       "0          1  31010.071131   2024-09-02            121  \n",
       "1          1  95859.744954   2024-03-26              3  \n",
       "2          1  28320.469325   2024-03-16             11  \n",
       "3          1  63652.674582   2024-02-28             39  \n",
       "4          1  30496.124536   2024-07-29             79  "
      ]
     },
     "execution_count": 43,
     "metadata": {},
     "output_type": "execute_result"
    }
   ],
   "source": [
    "df_out.head()"
   ]
  },
  {
   "cell_type": "markdown",
   "id": "a0039520-009f-4d9e-96c9-89ec5a215b99",
   "metadata": {},
   "source": [
    "**Observation:**\n",
    "- The table includes key outcome-related fields: `converted`, `revenue`, `outcome_date`, and `days_to_close`.\n",
    "- Revenue values contain **up to 6 decimal places** — these will be **rounded to 2 decimals** in staging.\n",
    "- All shown leads are marked as converted (1), which should be boolean.\n",
    "- `outcome_date` format looks consistent — we’ll validate further for nulls or future values.\n",
    "- We'll also validate if the days to close values are within a **reasonable range** (e.g., not negative or beyond 730 days)."
   ]
  },
  {
   "cell_type": "markdown",
   "id": "8cc16760-49ad-483d-8bab-8f55f884010c",
   "metadata": {},
   "source": [
    "#### 2. Check for Nulls and Data Types"
   ]
  },
  {
   "cell_type": "code",
   "execution_count": 44,
   "id": "f12c4f5c-5e70-4056-bf71-b249a21038f8",
   "metadata": {},
   "outputs": [
    {
     "name": "stdout",
     "output_type": "stream",
     "text": [
      "<class 'pandas.core.frame.DataFrame'>\n",
      "RangeIndex: 3377 entries, 0 to 3376\n",
      "Data columns (total 6 columns):\n",
      " #   Column         Non-Null Count  Dtype  \n",
      "---  ------         --------------  -----  \n",
      " 0   outcome_id     3377 non-null   object \n",
      " 1   lead_id        3377 non-null   object \n",
      " 2   converted      3377 non-null   int64  \n",
      " 3   revenue        3377 non-null   float64\n",
      " 4   outcome_date   3366 non-null   object \n",
      " 5   days_to_close  3377 non-null   int64  \n",
      "dtypes: float64(1), int64(2), object(3)\n",
      "memory usage: 158.4+ KB\n"
     ]
    }
   ],
   "source": [
    "df_out.info()"
   ]
  },
  {
   "cell_type": "markdown",
   "id": "ed704a56-61ab-4df6-9931-5f27d37076bb",
   "metadata": {},
   "source": [
    "**Observation:**\n",
    "- There are **3377 rows** in the dataset.\n",
    "- `outcome_date` has **11 missing values**, which should be handled appropriately in staging (e.g., set to current date for converted leads).\n",
    "- Other columns (`converted`, `revenue`, `days_to_close`) have **no missing values**.\n",
    "- Data types look valid for now, but we’ll investigate further for:\n",
    "  - Revenue outliers (negative or extreme values)\n",
    "  - Negative or unrealistic `days_to_close`"
   ]
  },
  {
   "cell_type": "markdown",
   "id": "76c0ccfb-18d9-4732-8488-c64bccdfab86",
   "metadata": {},
   "source": [
    "#### 3. Revenue Distribution Summary"
   ]
  },
  {
   "cell_type": "code",
   "execution_count": 47,
   "id": "08a2b14f-40c4-48b2-8da2-7df597a88f52",
   "metadata": {},
   "outputs": [
    {
     "data": {
      "text/plain": [
       "count    3.377000e+03\n",
       "mean     2.580705e+06\n",
       "std      4.870234e+07\n",
       "min     -7.956850e+04\n",
       "25%      0.000000e+00\n",
       "50%      2.009105e+04\n",
       "75%      4.087317e+04\n",
       "max      1.000000e+09\n",
       "Name: revenue, dtype: float64"
      ]
     },
     "execution_count": 47,
     "metadata": {},
     "output_type": "execute_result"
    }
   ],
   "source": [
    "df_out['revenue'].describe()"
   ]
  },
  {
   "cell_type": "markdown",
   "id": "79d4f95b-c747-4359-87a5-c4dbc951035c",
   "metadata": {},
   "source": [
    " **Observation:**\n",
    "\n",
    "- **Negative revenue detected** (min: -79,568.50) — must be capped at **0.00**.\n",
    "\n",
    "- **Extreme outliers present**:\n",
    "  - Mean is $2.58M, but median is just ~$20K — heavily skewed.\n",
    "  - Max value hits **$1B**, clearly unrealistic for CRM revenue.\n",
    "\n",
    "- Majority of revenue values are small (75% under ~$41K).\n",
    "\n",
    "- In staging:\n",
    "  - Set **negative revenue to 0.00**.\n",
    "  - Cap high revenue (e.g., >$500K or $2M) to a more realistic threshold like **$500K**.\n",
    "  - Round values to **2 decimal places**."
   ]
  },
  {
   "cell_type": "markdown",
   "id": "d000ef65-d534-45ad-a843-f0e9ae146725",
   "metadata": {},
   "source": [
    "#### 4. Negative Revenue Count"
   ]
  },
  {
   "cell_type": "code",
   "execution_count": 48,
   "id": "bfe0e251-e69d-4d65-b913-07bae62a7d8c",
   "metadata": {},
   "outputs": [
    {
     "data": {
      "text/plain": [
       "np.int64(21)"
      ]
     },
     "execution_count": 48,
     "metadata": {},
     "output_type": "execute_result"
    }
   ],
   "source": [
    "# Count negative revenue\n",
    "neg_revenue_count = (df_out['revenue'] < 0).sum()\n",
    "neg_revenue_count"
   ]
  },
  {
   "cell_type": "markdown",
   "id": "947ab3a7-43c7-40d9-8324-b426c125388e",
   "metadata": {},
   "source": [
    "**Observation:**\n",
    "- Found **21 records** with negative revenue values."
   ]
  },
  {
   "cell_type": "markdown",
   "id": "6f4ec535-5b8e-41a2-b35b-308aeaff4860",
   "metadata": {},
   "source": [
    "#### 5. Extreme Revenue Outliers"
   ]
  },
  {
   "cell_type": "code",
   "execution_count": 49,
   "id": "4ca6cd95-2e5d-49b3-9b2a-d1cd953c7615",
   "metadata": {},
   "outputs": [
    {
     "data": {
      "text/plain": [
       "np.int64(33)"
      ]
     },
     "execution_count": 49,
     "metadata": {},
     "output_type": "execute_result"
    }
   ],
   "source": [
    "# Count extreme revenue outliers\n",
    "high_revenue_count = (df_out['revenue'] > 2_000_000).sum()\n",
    "high_revenue_count"
   ]
  },
  {
   "cell_type": "markdown",
   "id": "fa46b004-57ce-45eb-9e2b-5c0a56d46bf1",
   "metadata": {},
   "source": [
    "**Observation:**\n",
    "- Detected **33 records** with revenue over **$2,000,000**.\n",
    "\n",
    "-  We will **cap them to $500,000** in the staging model to prevent skewed metrics."
   ]
  },
  {
   "cell_type": "markdown",
   "id": "ce54aa96-32ef-4ff4-8d3b-d319f146bd55",
   "metadata": {},
   "source": [
    "#### 6. Common Test Revenue Values"
   ]
  },
  {
   "cell_type": "code",
   "execution_count": 50,
   "id": "95a7d797-0a47-473a-9cc5-6798fdd9308a",
   "metadata": {},
   "outputs": [
    {
     "data": {
      "text/plain": [
       "revenue\n",
       "0.000000e+00    1587\n",
       "5.000000e+04      28\n",
       "2.500000e+06      13\n",
       "5.000000e+07      12\n",
       "1.000000e+09       8\n",
       "5.922603e+04       1\n",
       "9.743671e+04       1\n",
       "4.356605e+04       1\n",
       "7.958235e+04       1\n",
       "3.399171e+04       1\n",
       "Name: count, dtype: int64"
      ]
     },
     "execution_count": 50,
     "metadata": {},
     "output_type": "execute_result"
    }
   ],
   "source": [
    "# View common test values\n",
    "df_out['revenue'].value_counts().head(10)"
   ]
  },
  {
   "cell_type": "markdown",
   "id": "1acae326-044a-49e8-8379-6a30664cd76a",
   "metadata": {},
   "source": [
    "**Observation:**\n",
    "\n",
    "- **$0 revenue** appears in **1587** records — likely unconverted or invalid leads.\n",
    "  \n",
    "- Placeholder/test values such as **$2.5M**, **$50M**, and **$1B** are also frequent."
   ]
  },
  {
   "cell_type": "markdown",
   "id": "536ba21c-d8a9-4816-a511-8a87864470b3",
   "metadata": {},
   "source": [
    "#### 7. Days to Close — Negative or Unrealistic Durations\n",
    "The `days_to_close` metric should always be non-negative and realistically within 2 years.\n",
    "Let’s validate the range."
   ]
  },
  {
   "cell_type": "code",
   "execution_count": 51,
   "id": "bc99055f-6c66-49ea-b572-c8b20bc8c675",
   "metadata": {},
   "outputs": [
    {
     "data": {
      "text/plain": [
       "count    3377.000000\n",
       "mean       61.388214\n",
       "std       109.221630\n",
       "min      -134.000000\n",
       "25%        20.000000\n",
       "50%        49.000000\n",
       "75%        83.000000\n",
       "max      1500.000000\n",
       "Name: days_to_close, dtype: float64"
      ]
     },
     "execution_count": 51,
     "metadata": {},
     "output_type": "execute_result"
    }
   ],
   "source": [
    "# Check for negatives and extremely high values\n",
    "df_out['days_to_close'].describe()"
   ]
  },
  {
   "cell_type": "markdown",
   "id": "b892a7d4-e09a-4380-b2f8-8d6f7a3d943a",
   "metadata": {},
   "source": [
    "**Observation:**\n",
    "  \n",
    "- **Negative values** like -134 are not valid; we’ll **convert these to positive** in staging.\n",
    "- Some records have extremely large values like **1500 days**, which is over **4 years**."
   ]
  },
  {
   "cell_type": "markdown",
   "id": "6337429b-15e6-4182-b380-f3e7a39b6c25",
   "metadata": {},
   "source": [
    "#### 8. Check for Negative Days to Close"
   ]
  },
  {
   "cell_type": "code",
   "execution_count": 53,
   "id": "835add9b-db5d-4cf9-a0f5-f95ff7c2ca9c",
   "metadata": {},
   "outputs": [
    {
     "data": {
      "text/plain": [
       "np.int64(66)"
      ]
     },
     "execution_count": 53,
     "metadata": {},
     "output_type": "execute_result"
    }
   ],
   "source": [
    "# Count invalid values\n",
    "neg_days = (df_out['days_to_close'] < 0).sum()\n",
    "neg_days"
   ]
  },
  {
   "cell_type": "markdown",
   "id": "cfb57275-d706-4126-9fb2-b1d43915280b",
   "metadata": {},
   "source": [
    "- `66` records have **negative** `days_to_close`, which should be converted to **positive** values."
   ]
  },
  {
   "cell_type": "markdown",
   "id": "1faf7756-d637-4597-adb3-13a67fde4084",
   "metadata": {},
   "source": [
    "#### 9 Check for Extremely Long Sales Cycles"
   ]
  },
  {
   "cell_type": "code",
   "execution_count": 54,
   "id": "5a35f969-f5e8-4dac-96fd-c4eb90fdbf8b",
   "metadata": {},
   "outputs": [
    {
     "data": {
      "text/plain": [
       "np.int64(34)"
      ]
     },
     "execution_count": 54,
     "metadata": {},
     "output_type": "execute_result"
    }
   ],
   "source": [
    "extreme_days = (df_out['days_to_close'] > 730).sum()\n",
    "extreme_days"
   ]
  },
  {
   "cell_type": "markdown",
   "id": "4cc4852e-558e-443b-a2b8-99e349fc9c3e",
   "metadata": {},
   "source": [
    "- `34` records have `days_to_close` values **above 730 days**, which will be **capped at 730** (2 years)."
   ]
  },
  {
   "cell_type": "markdown",
   "id": "1f8dec22-fc83-4765-8af0-5ccb654eccd4",
   "metadata": {},
   "source": [
    "#### 10. Missing Outcome Dates for Converted Leads\n",
    "Converted leads should always have a `conversion_date`. Let’s check for any missing."
   ]
  },
  {
   "cell_type": "code",
   "execution_count": 66,
   "id": "6937e223-64a9-4426-b8dc-300ed3a19971",
   "metadata": {},
   "outputs": [
    {
     "data": {
      "text/plain": [
       "11"
      ]
     },
     "execution_count": 66,
     "metadata": {},
     "output_type": "execute_result"
    }
   ],
   "source": [
    "# Filter converted leads where outcome_date is missing\n",
    "missing_outcome_dates = df_out[(df_out['converted'] == True) & (df_out['outcome_date'].isnull())]\n",
    "missing_outcome_count = missing_outcome_dates.shape[0]\n",
    "missing_outcome_count"
   ]
  },
  {
   "cell_type": "markdown",
   "id": "4cfbc465-d9e6-4ad4-aa70-6a3b90c64a74",
   "metadata": {},
   "source": [
    "- `11` converted leads are **missing `outcome_date`**. These will be **set to the current date** in staging to maintain timeline consistency."
   ]
  },
  {
   "cell_type": "markdown",
   "id": "10237e73-92bf-4ef3-8c2b-252abb9e6c75",
   "metadata": {},
   "source": [
    "#### 11. Revenue Present but Not Converted"
   ]
  },
  {
   "cell_type": "code",
   "execution_count": 58,
   "id": "e0f1cd83-cf0c-4eb8-b24b-fae77c6e0299",
   "metadata": {},
   "outputs": [
    {
     "data": {
      "text/plain": [
       "44"
      ]
     },
     "execution_count": 58,
     "metadata": {},
     "output_type": "execute_result"
    }
   ],
   "source": [
    "# Revenue present but not converted\n",
    "df_out[(df_out['converted'] == False) & (df_out['revenue'] > 0)].shape[0]\n"
   ]
  },
  {
   "cell_type": "markdown",
   "id": "d08d6eed-2c9a-49d5-991e-b66ea6abd122",
   "metadata": {},
   "source": [
    "- `44` leads show revenue even though they are marked as not converted → may indicate data entry or business logic inconsistency."
   ]
  },
  {
   "cell_type": "markdown",
   "id": "6426e04d-97c5-442b-9723-3deeab912252",
   "metadata": {},
   "source": [
    "#### 12 Outcome Date Present but Not Converted"
   ]
  },
  {
   "cell_type": "code",
   "execution_count": 61,
   "id": "3ab94342-6b93-4f1b-8352-a473f676961d",
   "metadata": {},
   "outputs": [
    {
     "data": {
      "text/plain": [
       "1608"
      ]
     },
     "execution_count": 61,
     "metadata": {},
     "output_type": "execute_result"
    }
   ],
   "source": [
    "# Conversion date exists but not converted\n",
    "df_out[(df_out['converted'] == False) & (df_out['outcome_date'].notnull())].shape[0]"
   ]
  },
  {
   "cell_type": "markdown",
   "id": "2d5e3827-92c4-4f38-8217-266608fd84bb",
   "metadata": {},
   "source": [
    "- `1608` leads have outcome dates but are marked as not converted → outcome logic may need review."
   ]
  }
 ],
 "metadata": {
  "kernelspec": {
   "display_name": "Python 3 (ipykernel)",
   "language": "python",
   "name": "python3"
  },
  "language_info": {
   "codemirror_mode": {
    "name": "ipython",
    "version": 3
   },
   "file_extension": ".py",
   "mimetype": "text/x-python",
   "name": "python",
   "nbconvert_exporter": "python",
   "pygments_lexer": "ipython3",
   "version": "3.13.2"
  }
 },
 "nbformat": 4,
 "nbformat_minor": 5
}
